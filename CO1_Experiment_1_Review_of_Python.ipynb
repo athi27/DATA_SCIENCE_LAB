{
  "nbformat": 4,
  "nbformat_minor": 0,
  "metadata": {
    "colab": {
      "provenance": [],
      "include_colab_link": true
    },
    "kernelspec": {
      "name": "python3",
      "display_name": "Python 3"
    },
    "language_info": {
      "name": "python"
    }
  },
  "cells": [
    {
      "cell_type": "markdown",
      "metadata": {
        "id": "view-in-github",
        "colab_type": "text"
      },
      "source": [
        "<a href=\"https://colab.research.google.com/github/athi27/DATA_SCIENCE_LAB/blob/main/CO1_Experiment_1_Review_of_Python.ipynb\" target=\"_parent\"><img src=\"https://colab.research.google.com/assets/colab-badge.svg\" alt=\"Open In Colab\"/></a>"
      ]
    },
    {
      "cell_type": "markdown",
      "source": [
        "**Make a duplicate copy of google colab by clicking File/ Save a copy in Drive option. A duplicate copy will get created. It will open up in the new tab on your web browser .After that change share settings**"
      ],
      "metadata": {
        "id": "JPO2N87D8IRe"
      }
    },
    {
      "cell_type": "markdown",
      "source": [
        "1. Write  code to\n",
        "    a)Create different numeric data , print its value and type\n",
        "\n",
        "    b) Perform addition subtraction multiplication and division on numbers in Python"
      ],
      "metadata": {
        "id": "WsCsaDKhSm-Y"
      }
    },
    {
      "cell_type": "code",
      "execution_count": 2,
      "metadata": {
        "id": "Bqjt3ad7SaA8",
        "outputId": "e10b641a-9eb4-42fa-8ce2-bb4de137405c",
        "colab": {
          "base_uri": "https://localhost:8080/"
        }
      },
      "outputs": [
        {
          "output_type": "stream",
          "name": "stdout",
          "text": [
            "24 <class 'int'>\n",
            "22.3 <class 'float'>\n",
            "46.3\n",
            "1.6999999999999993\n",
            "1.0762331838565022\n",
            "535.2\n"
          ]
        }
      ],
      "source": [
        "#write your code here\n",
        "no1=24\n",
        "no2=22.3\n",
        "print(no1,type(no1))\n",
        "print(no2,type(no2))\n",
        "print(no1+no2)\n",
        "print(no1-no2)\n",
        "print(no1/no2)\n",
        "print(no1*no2)"
      ]
    },
    {
      "cell_type": "markdown",
      "source": [
        " 2. Write code to\n",
        "    1. Create a list contain Reg No., Name and Mark of 2 subjects(out of 100) of a student and Append one more mark to the  \n",
        "    2. Print the list"
      ],
      "metadata": {
        "id": "V5ydmNjLW4vN"
      }
    },
    {
      "cell_type": "markdown",
      "source": [
        "** 3. Update the value of the second mark**"
      ],
      "metadata": {
        "id": "r66WzWjnXklb"
      }
    },
    {
      "cell_type": "code",
      "source": [
        "#write your code here\n",
        "list1=[101,\"Athira\",56,89]\n",
        "list1.append(90)\n",
        "list1.append(78)\n",
        "print(list1)"
      ],
      "metadata": {
        "id": "TGN3H7VXW-Yw",
        "outputId": "512b915a-8bba-4dac-d3d5-3bc37716d83c",
        "colab": {
          "base_uri": "https://localhost:8080/"
        }
      },
      "execution_count": 5,
      "outputs": [
        {
          "output_type": "stream",
          "name": "stdout",
          "text": [
            "[101, 'Athira', 56, 89, 90, 78]\n"
          ]
        }
      ]
    },
    {
      "cell_type": "code",
      "source": [
        "#write your code here\n",
        "list1[3] = 88\n",
        "print(list1)"
      ],
      "metadata": {
        "id": "1Ata71Qo4hwx",
        "outputId": "f6a8a605-28dd-41dc-a0cf-2c9f1302a29b",
        "colab": {
          "base_uri": "https://localhost:8080/"
        }
      },
      "execution_count": 7,
      "outputs": [
        {
          "output_type": "stream",
          "name": "stdout",
          "text": [
            "[101, 'Athira', 56, 88, 90, 78]\n"
          ]
        }
      ]
    },
    {
      "cell_type": "markdown",
      "source": [
        "** 4. Create a random list contain 10 elements with values between 40 and 80**"
      ],
      "metadata": {
        "id": "y5e0PTKebS7Q"
      }
    },
    {
      "cell_type": "code",
      "source": [
        "#write your code here\n",
        "import random\n",
        "\n",
        "def generate_random_list(size, min_value, max_value):\n",
        "    if size <= 0 or min_value > max_value:\n",
        "        raise ValueError(\"Invalid parameters\")\n",
        "\n",
        "    random_list = [random.randint(min_value, max_value) for _ in range(size)]\n",
        "    return random_list\n",
        "\n",
        "# Generate a random list of 10 elements between 40 and 80\n",
        "random_list = generate_random_list(10, 40, 80)\n",
        "\n",
        "# Print the generated random list\n",
        "print(\"Generated Random List:\", random_list)\n"
      ],
      "metadata": {
        "id": "vWglZhwVbXWS",
        "outputId": "fc3a137c-ad14-4bd2-866d-8b214e55238d",
        "colab": {
          "base_uri": "https://localhost:8080/"
        }
      },
      "execution_count": 19,
      "outputs": [
        {
          "output_type": "stream",
          "name": "stdout",
          "text": [
            "Generated Random List: [55, 40, 48, 59, 51, 63, 67, 63, 55, 42]\n"
          ]
        }
      ]
    },
    {
      "cell_type": "markdown",
      "source": [
        "** 5. Decrement the value of each element in the above list**"
      ],
      "metadata": {
        "id": "hIS_o7Zqed8W"
      }
    },
    {
      "cell_type": "code",
      "source": [
        "#write your code here\n",
        "for i in range(10):\n",
        "  random_list[i]=random_list[i]-10\n",
        "print(random_list)"
      ],
      "metadata": {
        "id": "wh63a21Mejwj",
        "outputId": "c7132bdb-a23e-47f1-aad2-7bf00994785a",
        "colab": {
          "base_uri": "https://localhost:8080/"
        }
      },
      "execution_count": 20,
      "outputs": [
        {
          "output_type": "stream",
          "name": "stdout",
          "text": [
            "[45, 30, 38, 49, 41, 53, 57, 53, 45, 32]\n"
          ]
        }
      ]
    },
    {
      "cell_type": "markdown",
      "source": [
        "**Create a dictionary  store the Name, City and Mobilw number of a person\n",
        "Print the Name and Mobile number**\n"
      ],
      "metadata": {
        "id": "3YZ7ETSRNz2J"
      }
    },
    {
      "cell_type": "code",
      "source": [
        "#wite your code here\n",
        "dict1={\"name\":\"Athira\",\"city\":\"perumbavoor\",\"number\":9188311335}\n",
        "print(\"Name:\",dict1[\"name\"],\" and Mobile number:\",dict1[\"number\"])\n"
      ],
      "metadata": {
        "id": "_7pmYpX9OXMR",
        "outputId": "767ac897-ff51-4707-bb2c-6a8c67e91b6e",
        "colab": {
          "base_uri": "https://localhost:8080/"
        }
      },
      "execution_count": 31,
      "outputs": [
        {
          "output_type": "stream",
          "name": "stdout",
          "text": [
            "Name: Athira  and Mobile number: 9188311335\n"
          ]
        }
      ]
    }
  ]
}